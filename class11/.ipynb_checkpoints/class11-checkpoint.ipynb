{
 "cells": [
  {
   "cell_type": "code",
   "execution_count": 1,
   "metadata": {},
   "outputs": [],
   "source": [
    "%matplotlib inline\n",
    "import matplotlib.pyplot as plt\n",
    "import numpy as np\n",
    "import pandas as pd\n",
    "import mglearn\n",
    "\n",
    "import warnings\n",
    "warnings.filterwarnings('ignore')"
   ]
  },
  {
   "cell_type": "code",
   "execution_count": 2,
   "metadata": {},
   "outputs": [],
   "source": [
    "from sklearn.datasets import load_wine\n",
    "wine = load_wine()"
   ]
  },
  {
   "cell_type": "markdown",
   "metadata": {},
   "source": [
    "# PCA vs NMF vs T-SNE"
   ]
  },
  {
   "cell_type": "markdown",
   "metadata": {},
   "source": [
    "## Run PCA on unscaled data"
   ]
  },
  {
   "cell_type": "code",
   "execution_count": 3,
   "metadata": {},
   "outputs": [
    {
     "data": {
      "text/plain": [
       "Text(0,0.5,'Second principal component')"
      ]
     },
     "execution_count": 3,
     "metadata": {},
     "output_type": "execute_result"
    },
    {
     "data": {
      "image/png": "[encoded data removed]",
      "text/plain": [
       "<matplotlib.figure.Figure at 0x1163edfd0>"
      ]
     },
     "metadata": {},
     "output_type": "display_data"
    }
   ],
   "source": [
    "from sklearn.decomposition import PCA\n",
    "# keep the first two principal components of the data\n",
    "pca1 = PCA(n_components=2)\n",
    "# fit PCA model to data\n",
    "pca1.fit(wine.data)\n",
    "\n",
    "# transform data onto the first two principal components\n",
    "X_pca1 = pca1.transform(wine.data)\n",
    "\n",
    "# plot first vs. second principal component, colored by class\n",
    "plt.figure(figsize=(8, 8))\n",
    "mglearn.discrete_scatter(X_pca1[:, 0], X_pca1[:, 1], wine.target)\n",
    "plt.legend(wine.target_names, loc=\"best\")\n",
    "plt.gca().set_aspect(\"equal\")\n",
    "plt.xlabel(\"First principal component\")\n",
    "plt.ylabel(\"Second principal component\")"
   ]
  },
  {
   "cell_type": "code",
   "execution_count": null,
   "metadata": {},
   "outputs": [],
   "source": [
    "plt.matshow(pca1.components_, cmap='viridis')\n",
    "plt.yticks([0, 1], [\"First component\", \"Second component\"])\n",
    "plt.colorbar()\n",
    "plt.xticks(range(len(wine.feature_names)),\n",
    "           wine.feature_names, rotation=60, ha='left')\n",
    "plt.xlabel(\"Feature\")\n",
    "plt.ylabel(\"Principal components\")"
   ]
  },
  {
   "cell_type": "markdown",
   "metadata": {},
   "source": [
    "## Scale data"
   ]
  },
  {
   "cell_type": "code",
   "execution_count": null,
   "metadata": {},
   "outputs": [],
   "source": [
    "from sklearn.preprocessing import StandardScaler\n",
    "\n",
    "scaler = StandardScaler()\n",
    "scaler.fit(wine.data)\n",
    "X_scaled = scaler.transform(wine.data)"
   ]
  },
  {
   "cell_type": "markdown",
   "metadata": {},
   "source": [
    "## Run PCA on scaled data"
   ]
  },
  {
   "cell_type": "code",
   "execution_count": null,
   "metadata": {},
   "outputs": [],
   "source": [
    "from sklearn.decomposition import PCA\n",
    "# keep the first two principal components of the data\n",
    "pca2 = PCA(n_components=2)\n",
    "# fit PCA model to data\n",
    "pca2.fit(X_scaled)\n",
    "\n",
    "# transform data onto the first two principal components\n",
    "X_pca2 = pca2.transform(X_scaled)\n",
    "\n",
    "# plot first vs. second principal component, colored by class\n",
    "plt.figure(figsize=(8, 8))\n",
    "mglearn.discrete_scatter(X_pca2[:, 0], X_pca2[:, 1], wine.target)\n",
    "plt.legend(wine.target_names, loc=\"best\")\n",
    "plt.gca().set_aspect(\"equal\")\n",
    "plt.xlabel(\"First principal component\")\n",
    "plt.ylabel(\"Second principal component\")"
   ]
  },
  {
   "cell_type": "code",
   "execution_count": null,
   "metadata": {},
   "outputs": [],
   "source": [
    "plt.matshow(pca2.components_, cmap='viridis')\n",
    "plt.yticks([0, 1], [\"First component\", \"Second component\"])\n",
    "plt.colorbar()\n",
    "plt.xticks(range(len(wine.feature_names)),\n",
    "           wine.feature_names, rotation=60, ha='left')\n",
    "plt.xlabel(\"Feature\")\n",
    "plt.ylabel(\"Principal components\")"
   ]
  },
  {
   "cell_type": "markdown",
   "metadata": {},
   "source": [
    "## Run NMF on unscaled data"
   ]
  },
  {
   "cell_type": "code",
   "execution_count": null,
   "metadata": {},
   "outputs": [],
   "source": [
    "from sklearn.decomposition import NMF\n",
    "# keep the first two principal components of the data\n",
    "nmf = NMF(n_components=2, random_state=0)\n",
    "# fit NMF model to data\n",
    "nmf.fit(abs(wine.data))\n",
    "    \n",
    "# transform data onto the first two principal components\n",
    "X_nmf = nmf.transform(abs(X_scaled))\n",
    "\n",
    "\n",
    "# plot first vs. second principal component, colored by class\n",
    "plt.figure(figsize=(8, 8))\n",
    "mglearn.discrete_scatter(X_nmf[:, 0], X_nmf[:, 1], wine.target)\n",
    "plt.legend(wine.target_names, loc=\"best\")\n",
    "plt.gca().set_aspect(\"equal\")\n",
    "plt.xlabel(\"First basis component\")\n",
    "plt.ylabel(\"Second basis component\")"
   ]
  },
  {
   "cell_type": "markdown",
   "metadata": {},
   "source": [
    "## Run NMF on scaled data"
   ]
  },
  {
   "cell_type": "code",
   "execution_count": null,
   "metadata": {},
   "outputs": [],
   "source": [
    "from sklearn.decomposition import NMF\n",
    "# keep the first two principal components of the data\n",
    "nmf = NMF(n_components=2, random_state=0)\n",
    "# fit NMF model to data\n",
    "nmf.fit(abs(X_scaled))\n",
    "    \n",
    "# transform data onto the first two principal components\n",
    "X_nmf = nmf.transform(abs(X_scaled))\n",
    "\n",
    "# plot first vs. second principal component, colored by class\n",
    "plt.figure(figsize=(8, 8))\n",
    "mglearn.discrete_scatter(X_nmf[:, 0], X_nmf[:, 1], wine.target)\n",
    "plt.legend(wine.target_names, loc=\"best\")\n",
    "plt.gca().set_aspect(\"equal\")\n",
    "plt.xlabel(\"First basis component\")\n",
    "plt.ylabel(\"Second basis component\")"
   ]
  },
  {
   "cell_type": "markdown",
   "metadata": {},
   "source": [
    "## Run T-SNE on unscaled data"
   ]
  },
  {
   "cell_type": "code",
   "execution_count": null,
   "metadata": {},
   "outputs": [],
   "source": [
    "from sklearn.manifold import TSNE\n",
    "tsne = TSNE(random_state=42)\n",
    "X_tsne = tsne.fit_transform(wine.data)\n",
    "\n",
    "# plot first vs. second principal component, colored by class\n",
    "plt.figure(figsize=(8, 8))\n",
    "mglearn.discrete_scatter(X_tsne[:, 0], X_tsne[:, 1], wine.target)\n",
    "plt.legend(wine.target_names, loc=\"best\")\n",
    "plt.gca().set_aspect(\"equal\")\n",
    "plt.xlabel(\"First basis component\")\n",
    "plt.ylabel(\"Second basis component\")"
   ]
  },
  {
   "cell_type": "markdown",
   "metadata": {},
   "source": [
    "## Run t-SNE on scaled data"
   ]
  },
  {
   "cell_type": "code",
   "execution_count": null,
   "metadata": {},
   "outputs": [],
   "source": [
    "from sklearn.manifold import TSNE\n",
    "tsne = TSNE(random_state=42)\n",
    "X_tsne = tsne.fit_transform(X_scaled)\n",
    "\n",
    "# plot first vs. second principal component, colored by class\n",
    "plt.figure(figsize=(8, 8))\n",
    "mglearn.discrete_scatter(X_tsne[:, 0], X_tsne[:, 1], wine.target)\n",
    "plt.legend(wine.target_names, loc=\"best\")\n",
    "plt.gca().set_aspect(\"equal\")\n",
    "plt.xlabel(\"First basis function\")\n",
    "plt.ylabel(\"Second basis component\")"
   ]
  },
  {
   "cell_type": "markdown",
   "metadata": {},
   "source": [
    "# Dimensionality Reduction with PCA"
   ]
  },
  {
   "cell_type": "markdown",
   "metadata": {},
   "source": [
    "## Explained Variance in PCA"
   ]
  },
  {
   "cell_type": "code",
   "execution_count": null,
   "metadata": {},
   "outputs": [],
   "source": [
    "# keep the first two principal components of the data\n",
    "pca3 = PCA()\n",
    "# fit PCA model to data\n",
    "pca3.fit(X_scaled)\n",
    "\n",
    "print('-'*20 + 'Explained variance ratio' + '-'*20)\n",
    "print(pca3.explained_variance_ratio_)"
   ]
  },
  {
   "cell_type": "code",
   "execution_count": null,
   "metadata": {},
   "outputs": [],
   "source": [
    "# keep the first two principal components of the data\n",
    "pca4 = PCA(n_components=0.95)\n",
    "# fit PCA model to data\n",
    "pca4.fit(X_scaled)\n",
    "\n",
    "print('-'*20 + 'Explained variance ratio' + '-'*20)\n",
    "print(pca4.explained_variance_ratio_)"
   ]
  },
  {
   "cell_type": "markdown",
   "metadata": {},
   "source": [
    "## PCA as a pre-processing step for classification"
   ]
  },
  {
   "cell_type": "code",
   "execution_count": null,
   "metadata": {},
   "outputs": [],
   "source": [
    "from sklearn.datasets import load_iris\n",
    "from sklearn.datasets import load_breast_cancer\n",
    "from sklearn.datasets import load_wine\n",
    "from sklearn.preprocessing import StandardScaler\n",
    "\n",
    "data2 = load_breast_cancer()\n",
    "\n",
    "scaler = StandardScaler()\n",
    "scaler.fit(data2.data)\n",
    "X_scaled = scaler.transform(data2.data)"
   ]
  },
  {
   "cell_type": "markdown",
   "metadata": {},
   "source": [
    "### No Pre-Processing"
   ]
  },
  {
   "cell_type": "code",
   "execution_count": null,
   "metadata": {},
   "outputs": [],
   "source": [
    "from sklearn.linear_model import LogisticRegression\n",
    "from sklearn.model_selection import StratifiedShuffleSplit\n",
    "from sklearn.tree import DecisionTreeClassifier\n",
    "\n",
    "split = StratifiedShuffleSplit(n_splits=1, test_size=0.2, random_state=42)\n",
    "\n",
    "for train_index, test_index in split.split(X_scaled, data2.target):\n",
    "    X_train = X_scaled[train_index]\n",
    "    X_test = X_scaled[test_index]\n",
    "    y_train = data2.target[train_index]\n",
    "    y_test = data2.target[test_index]\n",
    "    \n",
    "model=LogisticRegression().fit(X_train, y_train)\n",
    "#model = SVC(kernel='poly', C=10).fit(X_train, y_train)\n",
    "#model = DecisionTreeClassifier(random_state=0).fit(X_train, y_train)\n",
    "\n",
    "print(\"Accuracy on training set: {:.2f}\".format(model.score(X_train, y_train)))\n",
    "print(\"Accuracy on test set: {:.2f}\".format(model.score(X_test, y_test)))"
   ]
  },
  {
   "cell_type": "markdown",
   "metadata": {},
   "source": [
    "### Two Principal Components"
   ]
  },
  {
   "cell_type": "code",
   "execution_count": null,
   "metadata": {},
   "outputs": [],
   "source": [
    "# keep the first two principal components of the data\n",
    "pca2 = PCA(n_components=2)\n",
    "# fit PCA model to data\n",
    "pca2.fit(X_scaled)\n",
    "# transform data onto the first two principal components\n",
    "X_pca2 = pca2.transform(X_scaled)\n",
    "\n",
    "for train_index, test_index in split.split(X_scaled, data2.target):\n",
    "    X_train = X_pca2[train_index]\n",
    "    X_test = X_pca2[test_index]\n",
    "    y_train = data2.target[train_index]\n",
    "    y_test = data2.target[test_index]\n",
    "\n",
    "model=LogisticRegression().fit(X_train, y_train)\n",
    "\n",
    "print(\"Accuracy on training set: {:.2f}\".format(model.score(X_train, y_train)))\n",
    "print(\"Accuracy on test set: {:.2f}\".format(model.score(X_test, y_test)))"
   ]
  },
  {
   "cell_type": "markdown",
   "metadata": {},
   "source": [
    "### 95% of Variance Explained"
   ]
  },
  {
   "cell_type": "code",
   "execution_count": null,
   "metadata": {},
   "outputs": [],
   "source": [
    "# keep the first two principal components of the data\n",
    "pca4 = PCA(0.95)\n",
    "# fit PCA model to data\n",
    "pca4.fit(X_scaled)\n",
    "# transform data onto the first ten principal components\n",
    "X_pca4 = pca4.transform(X_scaled)\n",
    "\n",
    "for train_index, test_index in split.split(X_scaled, data2.target):\n",
    "    X_train = X_pca4[train_index]\n",
    "    X_test = X_pca4[test_index]\n",
    "    y_train = data2.target[train_index]\n",
    "    y_test = data2.target[test_index]\n",
    "    \n",
    "model=LogisticRegression().fit(X_train, y_train)\n",
    "\n",
    "print(\"Accuracy on training set: {:.2f}\".format(model.score(X_train, y_train)))\n",
    "print(\"Accuracy on test set: {:.2f}\".format(model.score(X_test, y_test)))"
   ]
  },
  {
   "cell_type": "markdown",
   "metadata": {},
   "source": [
    "## PCA as a pre-processing step for regression"
   ]
  },
  {
   "cell_type": "code",
   "execution_count": null,
   "metadata": {},
   "outputs": [],
   "source": [
    "from sklearn.datasets import load_diabetes\n",
    "#from sklearn.datasets import load_boston\n",
    "\n",
    "data3 = load_diabetes()\n",
    "\n",
    "scaler = StandardScaler()\n",
    "scaler.fit(data3.data)\n",
    "#X = scaler.transform(data3.data)\n",
    "X = data3.data"
   ]
  },
  {
   "cell_type": "markdown",
   "metadata": {},
   "source": [
    "### No Pre-Processing"
   ]
  },
  {
   "cell_type": "code",
   "execution_count": null,
   "metadata": {},
   "outputs": [],
   "source": [
    "from sklearn.linear_model import LinearRegression\n",
    "from sklearn.neighbors import KNeighborsRegressor\n",
    "\n",
    "from sklearn.model_selection import ShuffleSplit\n",
    "\n",
    "split = ShuffleSplit(n_splits=1, test_size=0.2, random_state=42)\n",
    "\n",
    "for train_index, test_index in split.split(X, data3.target):\n",
    "    X_train = X[train_index]\n",
    "    X_test = X[test_index]\n",
    "    y_train = data3.target[train_index]\n",
    "    y_test = data3.target[test_index]\n",
    "    \n",
    "#model=LinearRegression().fit(X_train, y_train)\n",
    "model=KNeighborsRegressor().fit(X_train, y_train)\n",
    "\n",
    "print(\"Training set R^2: {:.2f}\".format(model.score(X_train, y_train)))\n",
    "print(\"Test set R^2: {:.2f}\".format(model.score(X_test, y_test)))"
   ]
  },
  {
   "cell_type": "markdown",
   "metadata": {},
   "source": [
    "### Two Principal Components"
   ]
  },
  {
   "cell_type": "code",
   "execution_count": null,
   "metadata": {},
   "outputs": [],
   "source": [
    "# keep the first two principal components of the data\n",
    "pcaReg = PCA(2)\n",
    "# fit PCA model to data\n",
    "pcaReg.fit(X)\n",
    "# transform data onto the first two principal components\n",
    "X_pca4 = pcaReg.transform(X)\n",
    "\n",
    "for train_index, test_index in split.split(X_pca4, data3.target):\n",
    "    X_train = X_pca4[train_index]\n",
    "    X_test = X_pca4[test_index]\n",
    "    y_train = data3.target[train_index]\n",
    "    y_test = data3.target[test_index]\n",
    "    \n",
    "model=KNeighborsRegressor().fit(X_train, y_train)\n",
    "\n",
    "print(\"Training set R^2: {:.2f}\".format(model.score(X_train, y_train)))\n",
    "print(\"Test set R^2: {:.2f}\".format(model.score(X_test, y_test)))"
   ]
  },
  {
   "cell_type": "markdown",
   "metadata": {},
   "source": [
    "### 95% of Variance Explained"
   ]
  },
  {
   "cell_type": "code",
   "execution_count": null,
   "metadata": {},
   "outputs": [],
   "source": [
    "# keep the first two principal components of the data\n",
    "pcaReg = PCA(0.95)\n",
    "# fit PCA model to data\n",
    "pcaReg.fit(X)\n",
    "# transform data onto the principal components covering 95% of the variance\n",
    "X_pca4 = pcaReg.transform(X)\n",
    "\n",
    "for train_index, test_index in split.split(X_pca4, data3.target):\n",
    "    X_train = X_pca4[train_index]\n",
    "    X_test = X_pca4[test_index]\n",
    "    y_train = data3.target[train_index]\n",
    "    y_test = data3.target[test_index]\n",
    "    \n",
    "model=KNeighborsRegressor().fit(X_train, y_train)\n",
    "\n",
    "print(\"Training set R^2: {:.2f}\".format(model.score(X_train, y_train)))\n",
    "print(\"Test set R^2: {:.2f}\".format(model.score(X_test, y_test)))"
   ]
  },
  {
   "cell_type": "markdown",
   "metadata": {},
   "source": [
    "# Visualization with t-SNE"
   ]
  },
  {
   "cell_type": "markdown",
   "metadata": {},
   "source": [
    "## Works Well for Classification"
   ]
  },
  {
   "cell_type": "code",
   "execution_count": null,
   "metadata": {},
   "outputs": [],
   "source": [
    "from sklearn.datasets import load_wine\n",
    "\n",
    "X_scaled = scaler.transform(wine.data)\n",
    "\n",
    "X_tsne = tsne.fit_transform(X_scaled)\n",
    "\n",
    "plt.figure(figsize=(8, 8))\n",
    "mglearn.discrete_scatter(X_tsne[:, 0], X_tsne[:, 1], wine.target)\n",
    "plt.legend(wine.target_names, loc=\"best\")\n",
    "plt.gca().set_aspect(\"equal\")\n",
    "plt.xlabel(\"First basis function\")\n",
    "plt.ylabel(\"Second basis component\")"
   ]
  },
  {
   "cell_type": "code",
   "execution_count": null,
   "metadata": {},
   "outputs": [],
   "source": [
    "from sklearn.datasets import load_iris\n",
    "\n",
    "iris = load_iris()\n",
    "\n",
    "scaler = StandardScaler()\n",
    "scaler.fit(iris.data)\n",
    "X_scaled = scaler.transform(iris.data)\n",
    "\n",
    "X_tsne = tsne.fit_transform(X_scaled)\n",
    "\n",
    "plt.figure(figsize=(8, 8))\n",
    "mglearn.discrete_scatter(X_tsne[:, 0], X_tsne[:, 1], iris.target)\n",
    "plt.legend(iris.target_names, loc=\"best\")\n",
    "plt.gca().set_aspect(\"equal\")\n",
    "plt.xlabel(\"First basis function\")\n",
    "plt.ylabel(\"Second basis component\")"
   ]
  },
  {
   "cell_type": "code",
   "execution_count": null,
   "metadata": {},
   "outputs": [],
   "source": [
    "from sklearn.datasets import load_breast_cancer\n",
    "\n",
    "cancer = load_breast_cancer()\n",
    "\n",
    "scaler = StandardScaler()\n",
    "scaler.fit(cancer.data)\n",
    "X_scaled = scaler.transform(cancer.data)\n",
    "\n",
    "X_tsne = tsne.fit_transform(X_scaled)\n",
    "\n",
    "plt.figure(figsize=(8, 8))\n",
    "mglearn.discrete_scatter(X_tsne[:, 0], X_tsne[:, 1], cancer.target)\n",
    "plt.legend(cancer.target_names, loc=\"best\")\n",
    "plt.gca().set_aspect(\"equal\")\n",
    "plt.xlabel(\"First basis function\")\n",
    "plt.ylabel(\"Second basis component\")"
   ]
  },
  {
   "cell_type": "markdown",
   "metadata": {},
   "source": [
    "## Does not work well for Regression"
   ]
  },
  {
   "cell_type": "code",
   "execution_count": null,
   "metadata": {},
   "outputs": [],
   "source": [
    "from sklearn.datasets import load_boston\n",
    "import seaborn as sns\n",
    "\n",
    "boston = load_boston()\n",
    "\n",
    "scaler = StandardScaler()\n",
    "scaler.fit(boston.data)\n",
    "X_scaled = scaler.transform(boston.data)\n",
    "\n",
    "X_tsne = tsne.fit_transform(X_scaled)\n",
    "\n",
    "\n",
    "plt.figure(figsize=(8, 8))\n",
    "mglearn.discrete_scatter(X_tsne[:, 0], X_tsne[:, 1], boston.target)\n",
    "plt.legend(boston.target_names, loc=\"best\")\n",
    "plt.gca().set_aspect(\"equal\")\n",
    "plt.xlabel(\"First basis function\")\n",
    "plt.ylabel(\"Second basis component\")"
   ]
  },
  {
   "cell_type": "markdown",
   "metadata": {},
   "source": [
    "### Although it may be useful if you categorize the continous output first"
   ]
  },
  {
   "cell_type": "code",
   "execution_count": null,
   "metadata": {},
   "outputs": [],
   "source": [
    "from sklearn.datasets import load_boston\n",
    "import seaborn as sns\n",
    "\n",
    "boston = load_boston()\n",
    "\n",
    "scaler = StandardScaler()\n",
    "scaler.fit(boston.data)\n",
    "X_scaled = scaler.transform(boston.data)\n",
    "\n",
    "X_tsne = tsne.fit_transform(X_scaled)\n",
    "y_rounded = np.round(boston.target/5)*5\n",
    "\n",
    "plt.figure(figsize=(8, 8))\n",
    "mglearn.discrete_scatter(X_tsne[:, 0], X_tsne[:, 1], y_rounded)\n",
    "plt.gca().set_aspect(\"equal\")\n",
    "plt.xlabel(\"First basis function\")\n",
    "plt.ylabel(\"Second basis component\")"
   ]
  },
  {
   "cell_type": "code",
   "execution_count": null,
   "metadata": {},
   "outputs": [],
   "source": []
  },
  {
   "cell_type": "code",
   "execution_count": null,
   "metadata": {},
   "outputs": [],
   "source": []
  }
 ],
 "metadata": {
  "kernelspec": {
   "display_name": "Python 3",
   "language": "python",
   "name": "python3"
  },
  "language_info": {
   "codemirror_mode": {
    "name": "ipython",
    "version": 3
   },
   "file_extension": ".py",
   "mimetype": "text/x-python",
   "name": "python",
   "nbconvert_exporter": "python",
   "pygments_lexer": "ipython3",
   "version": "3.6.4"
  }
 },
 "nbformat": 4,
 "nbformat_minor": 2
}
